{
 "cells": [
  {
   "cell_type": "code",
   "execution_count": 1,
   "id": "79f743d2",
   "metadata": {},
   "outputs": [],
   "source": [
    "import geemap\n",
    "import ee"
   ]
  },
  {
   "cell_type": "code",
   "execution_count": 2,
   "id": "0df78741",
   "metadata": {},
   "outputs": [
    {
     "data": {
      "text/html": [
       "\n",
       "            <style>\n",
       "                .geemap-dark {\n",
       "                    --jp-widgets-color: white;\n",
       "                    --jp-widgets-label-color: white;\n",
       "                    --jp-ui-font-color1: white;\n",
       "                    --jp-layout-color2: #454545;\n",
       "                    background-color: #383838;\n",
       "                }\n",
       "\n",
       "                .geemap-dark .jupyter-button {\n",
       "                    --jp-layout-color3: #383838;\n",
       "                }\n",
       "\n",
       "                .geemap-colab {\n",
       "                    background-color: var(--colab-primary-surface-color, white);\n",
       "                }\n",
       "\n",
       "                .geemap-colab .jupyter-button {\n",
       "                    --jp-layout-color3: var(--colab-primary-surface-color, white);\n",
       "                }\n",
       "            </style>\n",
       "            "
      ],
      "text/plain": [
       "<IPython.core.display.HTML object>"
      ]
     },
     "metadata": {},
     "output_type": "display_data"
    },
    {
     "name": "stderr",
     "output_type": "stream",
     "text": [
      "*** Earth Engine *** Share your feedback by taking our Annual Developer Satisfaction Survey: https://google.qualtrics.com/jfe/form/SV_7TDKVSyKvBdmMqW?ref=4i2o6\n"
     ]
    }
   ],
   "source": [
    "ee.Initialize(project='useful-theory-442820-q8')"
   ]
  },
  {
   "cell_type": "code",
   "execution_count": 3,
   "id": "5292c6c1",
   "metadata": {},
   "outputs": [
    {
     "data": {
      "text/html": [
       "\n",
       "            <style>\n",
       "                .geemap-dark {\n",
       "                    --jp-widgets-color: white;\n",
       "                    --jp-widgets-label-color: white;\n",
       "                    --jp-ui-font-color1: white;\n",
       "                    --jp-layout-color2: #454545;\n",
       "                    background-color: #383838;\n",
       "                }\n",
       "\n",
       "                .geemap-dark .jupyter-button {\n",
       "                    --jp-layout-color3: #383838;\n",
       "                }\n",
       "\n",
       "                .geemap-colab {\n",
       "                    background-color: var(--colab-primary-surface-color, white);\n",
       "                }\n",
       "\n",
       "                .geemap-colab .jupyter-button {\n",
       "                    --jp-layout-color3: var(--colab-primary-surface-color, white);\n",
       "                }\n",
       "            </style>\n",
       "            "
      ],
      "text/plain": [
       "<IPython.core.display.HTML object>"
      ]
     },
     "metadata": {},
     "output_type": "display_data"
    },
    {
     "data": {
      "application/vnd.jupyter.widget-view+json": {
       "model_id": "23bac94447bf41229f506be68e90edb0",
       "version_major": 2,
       "version_minor": 0
      },
      "text/plain": [
       "Map(center=[5.63025000425882, 72.92299999997654], controls=(WidgetControl(options=['position', 'transparent_bg…"
      ]
     },
     "execution_count": 3,
     "metadata": {},
     "output_type": "execute_result"
    }
   ],
   "source": [
    "# Create an interactive map\n",
    "Map = geemap.Map()\n",
    "\n",
    "# Access the Satellite Embedding Dataset\n",
    "embeddings = ee.ImageCollection('GOOGLE/SATELLITE_EMBEDDING/V1/ANNUAL')\n",
    "\n",
    "\n",
    "# Select a region\n",
    "# ****************************************************\n",
    "\n",
    "# Use the satellite basemap\n",
    "Map.setOptions('SATELLITE')\n",
    "\n",
    "# Define a polygon to specify the region of interest.\n",
    "# You can replace these coordinates with your own.\n",
    "geometry = ee.Geometry.Rectangle([\n",
    "        [\n",
    "            72.9201,\n",
    "            5.628\n",
    "        ],\n",
    "        [\n",
    "            72.9259,\n",
    "            5.6325\n",
    "        ]\n",
    "    ])\n",
    "\n",
    "# Center the map on the defined geometry\n",
    "Map.centerObject(geometry, 14)\n",
    "\n",
    "# Prepare the Satellite Embedding dataset\n",
    "# ****************************************************\n",
    "\n",
    "year = 2024\n",
    "startDate = ee.Date.fromYMD(year, 1, 1)\n",
    "endDate = startDate.advance(1, 'year')\n",
    "\n",
    "filteredEmbeddings = embeddings.filter(ee.Filter.date(startDate, endDate)).filter(ee.Filter.bounds(geometry))\n",
    "\n",
    "embeddingsImage = filteredEmbeddings.mosaic()\n",
    "\n",
    "#print('Satellite Embeddings Image', embeddingsImage)\n",
    "\n",
    "# Visualize the Satellite Embedding Dataset\n",
    "# *********************************************************\n",
    "\n",
    "# Define visualization parameters to display three axes of the embedding space as an RGB image.\n",
    "visParams = {'min': -0.3, 'max': 0.3, 'bands': ['A01', 'A16', 'A09']}\n",
    "\n",
    "# Add the clipped embeddings image to the map.\n",
    "Map.addLayer(embeddingsImage.clip(geometry), visParams, 'Embeddings Image')\n",
    "\n",
    "# Create a training dataset for unsupervised clustering\n",
    "# *********************************************************\n",
    "\n",
    "nSamples = 1000\n",
    "training = embeddingsImage.sample(\n",
    "  region=geometry,\n",
    "  scale=10,\n",
    "  numPixels=nSamples,\n",
    "  seed=100\n",
    ")\n",
    "\n",
    "# Print the first element of the training dataset to inspect it.\n",
    "#print(training.first().getInfo())\n",
    "\n",
    "\n",
    "# Function to train a model for the desired number of clusters\n",
    "def getClusters(nClusters):\n",
    "  \"\"\"Trains a k-means clusterer and applies it to the image.\"\"\"\n",
    "  clusterer = ee.Clusterer.wekaKMeans(nClusters).train(training)\n",
    "\n",
    "  # Cluster the image\n",
    "  clustered = embeddingsImage.cluster(clusterer)\n",
    "  return clustered\n",
    "\n",
    "\n",
    "# Get and display clusters\n",
    "# *********************************************************\n",
    "\n",
    "# Get a clustered image with 2 clusters.\n",
    "cluster2 = getClusters(2)\n",
    "# Add the 2-cluster result to the map with a random visualizer.\n",
    "Map.addLayer(cluster2.randomVisualizer().clip(geometry), {}, '2 clusters')\n",
    "\n",
    "\n",
    "\n",
    "\n",
    "# Display the map\n",
    "Map"
   ]
  }
 ],
 "metadata": {
  "kernelspec": {
   "display_name": "littoral_pipeline",
   "language": "python",
   "name": "python3"
  },
  "language_info": {
   "codemirror_mode": {
    "name": "ipython",
    "version": 3
   },
   "file_extension": ".py",
   "mimetype": "text/x-python",
   "name": "python",
   "nbconvert_exporter": "python",
   "pygments_lexer": "ipython3",
   "version": "3.10.12"
  }
 },
 "nbformat": 4,
 "nbformat_minor": 5
}
